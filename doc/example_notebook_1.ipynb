{
 "cells": [
  {
   "cell_type": "markdown",
   "id": "2152a992",
   "metadata": {},
   "source": [
    "# Examples for using the wgconfig library for reading data"
   ]
  },
  {
   "cell_type": "markdown",
   "id": "69fb9bda",
   "metadata": {},
   "source": [
    "We have a WireGuard example configuration in \"wgtest.conf\" with an interface section, two regular peers, one disabled peer and a lot of comments. It has the following content:"
   ]
  },
  {
   "cell_type": "code",
   "execution_count": 5,
   "id": "4366a453",
   "metadata": {},
   "outputs": [
    {
     "name": "stdout",
     "output_type": "stream",
     "text": [
      "# This is a first comment\n",
      "[Interface]\n",
      "# This is a second comment\n",
      "PrivateKey = 6FYKQKEtGFAb5HSwyj5cQl3wgS1E9d6SqVjdVksOn2s=\n",
      "# PublicKey = S/aHw6L0M+yq5m9qikcfy++dhPdw7tHuNMPgwQkEdSo=\n",
      "ListenPort = 51820\n",
      "Address = 192.0.2.1/24  # end-of-line comment\n",
      "Address = fe80::1/64\n",
      "\n",
      "# This is a third comment\n",
      "[Peer]\n",
      "Endpoint = 192.168.0.2:51820\n",
      "# PrivateKey = cKqe3xDFsKlMwlQfVJAnbNhiGFV57FnfLykiBtrnumY=\n",
      "PublicKey = XWItB4SR1qwGbGn59oRE6TBlTYHQF0pDy1x63dlr5nA=\n",
      "AllowedIPs = fe80::2/128, 9999::2/128\n",
      "PersistentKeepalive = 25\n",
      "# This is a forth comment\n",
      "\n",
      "[Peer]\n",
      "# This is a fifth comment\n",
      "Endpoint = 192.168.0.3:51820\n",
      "# PrivateKey = iJQkwzeB2+/lGyGPTM23Wes5Kg0n+LgXMqK8XAwWt14=\n",
      "PublicKey = eBvBVLo6wH0XkBfIjeLPf8ydBTfU/gMqJOH4nmVXcDE=\n",
      "AllowedIPs = fe80::3/128\n",
      "AllowedIPs = 9999::3/128\n",
      "PersistentKeepalive = 25\n",
      "\n",
      "#! [Peer]\n",
      "#! Endpoint = 192.168.0.4:51820\n",
      "#! # PrivateKey = iAgWkT6/FnO+kcNcD65SKpjcAweLmcppVE4IEHxa73o=\n",
      "#! PublicKey = ivBDO+pT2m4W5bl7ApNaC3BybEtYa1fvNpA4h+tHyy8=\n",
      "#! AllowedIPs = fe80::4/128\n",
      "#! AllowedIPs = 9999::4/128\n",
      "#! PersistentKeepalive = 25\n",
      "\n"
     ]
    }
   ],
   "source": [
    "from pprint import pprint\n",
    "with open('./wgtest.conf', 'r') as f:\n",
    "    print(f.read())    "
   ]
  },
  {
   "cell_type": "markdown",
   "id": "7345380d",
   "metadata": {},
   "source": [
    "### Let's import the wgconfig library and read that file"
   ]
  },
  {
   "cell_type": "code",
   "execution_count": 6,
   "id": "cc450d74",
   "metadata": {},
   "outputs": [],
   "source": [
    "import wgconfig\n",
    "wc = wgconfig.WGConfig('./wgtest.conf')\n",
    "wc.read_file()"
   ]
  },
  {
   "cell_type": "markdown",
   "id": "347a10bd",
   "metadata": {},
   "source": [
    "### Interface data parsed by wgconfig"
   ]
  },
  {
   "cell_type": "code",
   "execution_count": 7,
   "id": "4de1028b",
   "metadata": {},
   "outputs": [
    {
     "name": "stdout",
     "output_type": "stream",
     "text": [
      "{'Address': ['192.0.2.1/24', 'fe80::1/64'],\n",
      " 'ListenPort': 51820,\n",
      " 'PrivateKey': '6FYKQKEtGFAb5HSwyj5cQl3wgS1E9d6SqVjdVksOn2s='}\n"
     ]
    }
   ],
   "source": [
    "pprint(wc.get_interface())"
   ]
  },
  {
   "cell_type": "markdown",
   "id": "2dfcdfbe",
   "metadata": {},
   "source": [
    "### Get a list of all peers - just active ones or also including disabled ones"
   ]
  },
  {
   "cell_type": "code",
   "execution_count": 8,
   "id": "57887df1",
   "metadata": {},
   "outputs": [
    {
     "name": "stdout",
     "output_type": "stream",
     "text": [
      "['XWItB4SR1qwGbGn59oRE6TBlTYHQF0pDy1x63dlr5nA=',\n",
      " 'eBvBVLo6wH0XkBfIjeLPf8ydBTfU/gMqJOH4nmVXcDE=']\n",
      "\n",
      "['XWItB4SR1qwGbGn59oRE6TBlTYHQF0pDy1x63dlr5nA=',\n",
      " 'eBvBVLo6wH0XkBfIjeLPf8ydBTfU/gMqJOH4nmVXcDE=',\n",
      " 'ivBDO+pT2m4W5bl7ApNaC3BybEtYa1fvNpA4h+tHyy8=']\n"
     ]
    }
   ],
   "source": [
    "pprint(wc.get_peers())\n",
    "print()\n",
    "pprint(wc.get_peers(include_disabled=True))"
   ]
  },
  {
   "cell_type": "markdown",
   "id": "d064ab76",
   "metadata": {},
   "source": [
    "### Get the data of a single peer"
   ]
  },
  {
   "cell_type": "code",
   "execution_count": 9,
   "id": "fd55f567",
   "metadata": {},
   "outputs": [
    {
     "name": "stdout",
     "output_type": "stream",
     "text": [
      "{'AllowedIPs': ['fe80::2/128', '9999::2/128'],\n",
      " 'Endpoint': '192.168.0.2:51820',\n",
      " 'PersistentKeepalive': 25,\n",
      " 'PublicKey': 'XWItB4SR1qwGbGn59oRE6TBlTYHQF0pDy1x63dlr5nA='}\n"
     ]
    }
   ],
   "source": [
    "pprint(wc.get_peer('XWItB4SR1qwGbGn59oRE6TBlTYHQF0pDy1x63dlr5nA='))"
   ]
  },
  {
   "cell_type": "markdown",
   "id": "79f28fa3",
   "metadata": {},
   "source": [
    "Note that attributes with the same name occuring on different lines are returned as list (see the \"AllowedIPs\" attribute lines of first peer)."
   ]
  },
  {
   "cell_type": "code",
   "execution_count": 10,
   "id": "4901efc5",
   "metadata": {},
   "outputs": [
    {
     "name": "stdout",
     "output_type": "stream",
     "text": [
      "{'AllowedIPs': ['fe80::3/128', '9999::3/128'],\n",
      " 'Endpoint': '192.168.0.3:51820',\n",
      " 'PersistentKeepalive': 25,\n",
      " 'PublicKey': 'eBvBVLo6wH0XkBfIjeLPf8ydBTfU/gMqJOH4nmVXcDE='}\n"
     ]
    }
   ],
   "source": [
    "pprint(wc.get_peer('eBvBVLo6wH0XkBfIjeLPf8ydBTfU/gMqJOH4nmVXcDE='))"
   ]
  },
  {
   "cell_type": "markdown",
   "id": "e03368da",
   "metadata": {},
   "source": [
    "Note that comma-separated values are also returned as list (see the \"AllowedIPs\" attribute of second peer)."
   ]
  },
  {
   "cell_type": "markdown",
   "id": "535c5983",
   "metadata": {},
   "source": [
    "### Get data of all peers"
   ]
  },
  {
   "cell_type": "code",
   "execution_count": 11,
   "id": "a7bee906",
   "metadata": {},
   "outputs": [
    {
     "name": "stdout",
     "output_type": "stream",
     "text": [
      "{'XWItB4SR1qwGbGn59oRE6TBlTYHQF0pDy1x63dlr5nA=': {'AllowedIPs': ['fe80::2/128',\n",
      "                                                                 '9999::2/128'],\n",
      "                                                  'Endpoint': '192.168.0.2:51820',\n",
      "                                                  'PersistentKeepalive': 25,\n",
      "                                                  'PublicKey': 'XWItB4SR1qwGbGn59oRE6TBlTYHQF0pDy1x63dlr5nA='},\n",
      " 'eBvBVLo6wH0XkBfIjeLPf8ydBTfU/gMqJOH4nmVXcDE=': {'AllowedIPs': ['fe80::3/128',\n",
      "                                                                 '9999::3/128'],\n",
      "                                                  'Endpoint': '192.168.0.3:51820',\n",
      "                                                  'PersistentKeepalive': 25,\n",
      "                                                  'PublicKey': 'eBvBVLo6wH0XkBfIjeLPf8ydBTfU/gMqJOH4nmVXcDE='}}\n"
     ]
    }
   ],
   "source": [
    "pprint(wc.get_peers(keys_only=False))"
   ]
  },
  {
   "cell_type": "code",
   "execution_count": null,
   "id": "caf30d24",
   "metadata": {},
   "outputs": [],
   "source": []
  }
 ],
 "metadata": {
  "kernelspec": {
   "display_name": "Python 3 (ipykernel)",
   "language": "python",
   "name": "python3"
  },
  "language_info": {
   "codemirror_mode": {
    "name": "ipython",
    "version": 3
   },
   "file_extension": ".py",
   "mimetype": "text/x-python",
   "name": "python",
   "nbconvert_exporter": "python",
   "pygments_lexer": "ipython3",
   "version": "3.9.2"
  }
 },
 "nbformat": 4,
 "nbformat_minor": 5
}
